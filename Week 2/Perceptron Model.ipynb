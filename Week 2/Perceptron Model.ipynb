{
 "cells": [
  {
   "cell_type": "code",
   "execution_count": 1,
   "id": "174f34eb",
   "metadata": {},
   "outputs": [],
   "source": [
    "import numpy as np"
   ]
  },
  {
   "cell_type": "code",
   "execution_count": 2,
   "id": "010c6b7b",
   "metadata": {},
   "outputs": [],
   "source": [
    "# Sigmoid Function\n",
    "\n",
    "def sigmoid (no):\n",
    "    e = 2.718281828459045\n",
    "    return 1/(1+e**(-no))"
   ]
  },
  {
   "cell_type": "code",
   "execution_count": 3,
   "id": "ae4f0b5b",
   "metadata": {},
   "outputs": [
    {
     "name": "stdout",
     "output_type": "stream",
     "text": [
      "0.5\n"
     ]
    }
   ],
   "source": [
    "print (sigmoid(0))"
   ]
  },
  {
   "cell_type": "code",
   "execution_count": 4,
   "id": "7596a6b3",
   "metadata": {},
   "outputs": [],
   "source": [
    "# Weights\n",
    "\n",
    "weights = np.ones(5) \n",
    "\n",
    "# Cell i is the weight from i th input to perceptron\n",
    "# Last cell for bias"
   ]
  },
  {
   "cell_type": "code",
   "execution_count": 5,
   "id": "7abdec6b",
   "metadata": {},
   "outputs": [
    {
     "name": "stdout",
     "output_type": "stream",
     "text": [
      "[1. 1. 1. 1. 1.]\n"
     ]
    }
   ],
   "source": [
    "print (weights)"
   ]
  },
  {
   "cell_type": "code",
   "execution_count": 6,
   "id": "4bb896a7",
   "metadata": {},
   "outputs": [],
   "source": [
    "# Sample Input\n",
    "\n",
    "data = np.array([0,1,-15,10])"
   ]
  },
  {
   "cell_type": "code",
   "execution_count": 7,
   "id": "bf757d78",
   "metadata": {},
   "outputs": [
    {
     "name": "stdout",
     "output_type": "stream",
     "text": [
      "0.04742587317756679\n"
     ]
    }
   ],
   "source": [
    "# How percptron works\n",
    "\n",
    "temp = 0\n",
    "for i in range (4):\n",
    "    temp = temp + data[i] * weights[i]\n",
    "temp = temp + 1 * weights[4]\n",
    "answer = sigmoid(temp)\n",
    "print (answer)"
   ]
  }
 ],
 "metadata": {
  "kernelspec": {
   "display_name": "Python 3 (ipykernel)",
   "language": "python",
   "name": "python3"
  },
  "language_info": {
   "codemirror_mode": {
    "name": "ipython",
    "version": 3
   },
   "file_extension": ".py",
   "mimetype": "text/x-python",
   "name": "python",
   "nbconvert_exporter": "python",
   "pygments_lexer": "ipython3",
   "version": "3.9.12"
  }
 },
 "nbformat": 4,
 "nbformat_minor": 5
}
