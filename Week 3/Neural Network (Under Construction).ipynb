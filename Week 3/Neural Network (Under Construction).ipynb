{
 "cells": [
  {
   "cell_type": "code",
   "execution_count": 2,
   "id": "174f34eb",
   "metadata": {},
   "outputs": [],
   "source": [
    "import numpy as np"
   ]
  },
  {
   "cell_type": "code",
   "execution_count": 3,
   "id": "010c6b7b",
   "metadata": {},
   "outputs": [],
   "source": [
    "def sigmoid (no):\n",
    "    e = 2.718281828459045\n",
    "    return 1/(1+e**(-no))"
   ]
  },
  {
   "cell_type": "code",
   "execution_count": 4,
   "id": "ae4f0b5b",
   "metadata": {},
   "outputs": [
    {
     "name": "stdout",
     "output_type": "stream",
     "text": [
      "0.5\n"
     ]
    }
   ],
   "source": [
    "print (sigmoid(0))"
   ]
  },
  {
   "cell_type": "code",
   "execution_count": 5,
   "id": "c26767f1",
   "metadata": {},
   "outputs": [],
   "source": [
    "def sigmoid_inv (no):\n",
    "    return np.log(no/(1-no))"
   ]
  },
  {
   "cell_type": "code",
   "execution_count": 6,
   "id": "7596a6b3",
   "metadata": {},
   "outputs": [],
   "source": [
    "weights = np.ones([5,5]) \n",
    "\n",
    "#1st column is coeff b/w ans and first layer\n",
    "#In r th row, cell with coulmn i is the weight from i th input to r th neuron in first layer\n",
    "# Last row for bias"
   ]
  },
  {
   "cell_type": "code",
   "execution_count": 7,
   "id": "7abdec6b",
   "metadata": {},
   "outputs": [
    {
     "name": "stdout",
     "output_type": "stream",
     "text": [
      "[[1. 1. 1. 1. 1.]\n",
      " [1. 1. 1. 1. 1.]\n",
      " [1. 1. 1. 1. 1.]\n",
      " [1. 1. 1. 1. 1.]\n",
      " [1. 1. 1. 1. 1.]]\n"
     ]
    }
   ],
   "source": [
    "print (weights)"
   ]
  },
  {
   "cell_type": "code",
   "execution_count": 8,
   "id": "c3c37c6b",
   "metadata": {},
   "outputs": [],
   "source": [
    "derivative = np.ones([5,5])\n",
    "\n",
    "# Each contains factor which has to be multiplied by learning rate to update the weight"
   ]
  },
  {
   "cell_type": "code",
   "execution_count": 9,
   "id": "dd68b88c",
   "metadata": {},
   "outputs": [
    {
     "name": "stdout",
     "output_type": "stream",
     "text": [
      "[[1. 1. 1. 1. 1.]\n",
      " [1. 1. 1. 1. 1.]\n",
      " [1. 1. 1. 1. 1.]\n",
      " [1. 1. 1. 1. 1.]\n",
      " [1. 1. 1. 1. 1.]]\n"
     ]
    }
   ],
   "source": [
    "print (derivative)"
   ]
  },
  {
   "cell_type": "code",
   "execution_count": 10,
   "id": "68bddbf3",
   "metadata": {},
   "outputs": [],
   "source": [
    "answer = np.ones(5)\n",
    "\n",
    "# 0th is final answer\n",
    "# rest ith is ith neuron's output"
   ]
  },
  {
   "cell_type": "code",
   "execution_count": 11,
   "id": "d831c536",
   "metadata": {},
   "outputs": [
    {
     "name": "stdout",
     "output_type": "stream",
     "text": [
      "[1. 1. 1. 1. 1.]\n"
     ]
    }
   ],
   "source": [
    "print (answer)"
   ]
  },
  {
   "cell_type": "code",
   "execution_count": 12,
   "id": "4bb896a7",
   "metadata": {},
   "outputs": [],
   "source": [
    "data = np.array([0,1,-15,10])\n",
    "expected = 2\n",
    "alpha = np.array([0.0001,0.0001,0.0001,0.0001,0.0001])\n",
    "\n",
    "#Test Data"
   ]
  },
  {
   "cell_type": "code",
   "execution_count": 1,
   "id": "bf757d78",
   "metadata": {},
   "outputs": [
    {
     "ename": "NameError",
     "evalue": "name 'weights' is not defined",
     "output_type": "error",
     "traceback": [
      "\u001b[1;31m---------------------------------------------------------------------------\u001b[0m",
      "\u001b[1;31mNameError\u001b[0m                                 Traceback (most recent call last)",
      "Input \u001b[1;32mIn [1]\u001b[0m, in \u001b[0;36m<cell line: 6>\u001b[1;34m()\u001b[0m\n\u001b[0;32m     11\u001b[0m temp \u001b[38;5;241m=\u001b[39m \u001b[38;5;241m0\u001b[39m    \n\u001b[0;32m     12\u001b[0m \u001b[38;5;28;01mfor\u001b[39;00m j \u001b[38;5;129;01min\u001b[39;00m \u001b[38;5;28mrange\u001b[39m(\u001b[38;5;241m4\u001b[39m):\n\u001b[1;32m---> 13\u001b[0m     temp \u001b[38;5;241m=\u001b[39m temp \u001b[38;5;241m+\u001b[39m \u001b[43mweights\u001b[49m[j,i] \u001b[38;5;241m*\u001b[39m data[j]\n\u001b[0;32m     14\u001b[0m temp \u001b[38;5;241m=\u001b[39m temp \u001b[38;5;241m+\u001b[39m weights [\u001b[38;5;241m4\u001b[39m,i] \u001b[38;5;241m*\u001b[39m \u001b[38;5;241m1\u001b[39m\n\u001b[0;32m     15\u001b[0m answer[i] \u001b[38;5;241m=\u001b[39m sigmoid(temp)\n",
      "\u001b[1;31mNameError\u001b[0m: name 'weights' is not defined"
     ]
    }
   ],
   "source": [
    "# To set answer based on input\n",
    "#Take \"data\" as array of input parameters\n",
    "\n",
    "a = 0\n",
    "\n",
    "while a < 100000:\n",
    "      \n",
    "    # data -> 1st Layer\n",
    "    \n",
    "    for i in range (1,5):\n",
    "        temp = 0    \n",
    "        for j in range(4):\n",
    "            temp = temp + weights[j,i] * data[j]\n",
    "        temp = temp + weights [4,i] * 1\n",
    "        answer[i] = sigmoid(temp)\n",
    "       \n",
    "    # 1st Layer -> Answer\n",
    "    \n",
    "    temp = 0\n",
    "    for i in range (4):\n",
    "        temp = temp + weights[i,0] * answer[i+1]\n",
    "    temp = temp + weights[4,0] * 1\n",
    "    answer[0]= sigmoid(temp)\n",
    "    \n",
    "    # Cost Function\n",
    "    \n",
    "    Cost_curr = ( answer[0] - sigmoid(expected) ) ** 2\n",
    "\n",
    "    # Starting to set derivative by common term\n",
    "    \n",
    "    derivative = np.ones([5,5])\n",
    "    derivative = derivative * 2 * ( answer[0] - sigmoid(expected) )\n",
    "\n",
    "    # Updating Layer 1 -> Answer Weights\n",
    "\n",
    "    for i in range (4):\n",
    "        derivative[i,0] = answer[0] ** 2 * ( 1/answer[0] - 1 ) * answer[i+1]\n",
    "    derivative[4,0] = answer[0] ** 2 * ( 1/answer[0] - 1 ) * 1\n",
    "\n",
    "    # Updating Input -> Layer 1 Weights\n",
    "\n",
    "    for i in range(1,5):\n",
    "        for j in range (4): \n",
    "            temp1 = 0\n",
    "            for k in range (4):\n",
    "                temp1 = temp1 + weights[k,0] * answer[k+1] ** 2 * ( 1/answer[k+1] - 1 ) * data [k]\n",
    "            derivative[j,i] = derivative[j,i] * answer[0] ** 2 * ( 1/answer[0] - 1 ) * temp1\n",
    "        for k in range (4):\n",
    "            temp1 = temp1 + weights[k,0] * answer[k+1] ** 2 * ( 1/answer[k+1] - 1 ) * 1\n",
    "        derivative[4,i] = derivative[4,i] * answer[0] ** 2 * ( 1/answer[0] - 1 ) * temp1\n",
    "\n",
    "    # Being on a minima\n",
    "    \n",
    "#     if a > 5:\n",
    "#         if Cost_curr > Cost_prev:\n",
    "#             print (\"Hi\")\n",
    "#             break\n",
    "    \n",
    "    # Updting Weights\n",
    "    \n",
    "    for i in range (5):\n",
    "        weights[:,i] = weights[:,i] - alpha[i] * derivative[:,i]\n",
    "        \n",
    "    Cost_prev = Cost_curr \n",
    "    \n",
    "    # Iterator\n",
    "    \n",
    "    a = a + 1\n",
    "    print (answer[0])"
   ]
  },
  {
   "cell_type": "code",
   "execution_count": 14,
   "id": "bed44851",
   "metadata": {},
   "outputs": [
    {
     "name": "stdout",
     "output_type": "stream",
     "text": [
      "0.22807324456199324\n",
      "\n",
      "\n",
      "[0.40322693 0.30056174 0.30056174 0.30056174 0.30056174]\n",
      "\n",
      "\n",
      "[0.40322693 0.30056174 0.30056174 0.30056174 0.30056174]\n",
      "\n",
      "\n",
      "[[ 0.76905607  0.46114122  0.46114122  0.46114122  0.46114122]\n",
      " [ 0.76905607  0.46114122  0.46114122  0.46114122  0.46114122]\n",
      " [ 0.76905607  0.46114122  0.46114122  0.46114122  0.46114122]\n",
      " [ 0.76905607  0.46114122  0.46114122  0.46114122  0.46114122]\n",
      " [-1.3166655   1.          1.          1.          1.        ]]\n",
      "\n",
      "\n",
      "[[7.23256671e-02 1.48638418e-01 1.48638418e-01 1.48638418e-01\n",
      "  1.48638418e-01]\n",
      " [7.23256671e-02 1.48638418e-01 1.48638418e-01 1.48638418e-01\n",
      "  1.48638418e-01]\n",
      " [7.23256671e-02 1.48638418e-01 1.48638418e-01 1.48638418e-01\n",
      "  1.48638418e-01]\n",
      " [7.23256671e-02 1.48638418e-01 1.48638418e-01 1.48638418e-01\n",
      "  1.48638418e-01]\n",
      " [2.40634973e-01 8.93108427e-17 8.93108427e-17 8.93108427e-17\n",
      "  8.93108427e-17]]\n",
      "0.7758034925743758\n"
     ]
    }
   ],
   "source": [
    "print ( (sigmoid(2) - answer[0]) ** 2 )\n",
    "print (\"\\n\")\n",
    "print (answer)\n",
    "print (\"\\n\")\n",
    "print (answer)\n",
    "print (\"\\n\")\n",
    "print (weights)\n",
    "print (\"\\n\")\n",
    "print (derivative)\n",
    "print (sigmoid(expected)**2)"
   ]
  },
  {
   "cell_type": "code",
   "execution_count": 15,
   "id": "b8a3accc",
   "metadata": {},
   "outputs": [],
   "source": [
    "def Cost (predicted, actual):\n",
    "    return (predicted-actual)**2"
   ]
  },
  {
   "cell_type": "code",
   "execution_count": 16,
   "id": "e6dcac0b",
   "metadata": {},
   "outputs": [
    {
     "name": "stdout",
     "output_type": "stream",
     "text": [
      "100000\n"
     ]
    }
   ],
   "source": [
    "print (a)"
   ]
  },
  {
   "cell_type": "code",
   "execution_count": 17,
   "id": "09775f8d",
   "metadata": {},
   "outputs": [
    {
     "name": "stdout",
     "output_type": "stream",
     "text": [
      "0.8807970779778823\n"
     ]
    }
   ],
   "source": [
    "print (sigmoid(2))"
   ]
  },
  {
   "cell_type": "code",
   "execution_count": 18,
   "id": "ac582994",
   "metadata": {},
   "outputs": [
    {
     "name": "stdout",
     "output_type": "stream",
     "text": [
      "0.40322693175641544\n"
     ]
    }
   ],
   "source": [
    "print (answer[0])"
   ]
  },
  {
   "cell_type": "code",
   "execution_count": 19,
   "id": "e275ac52",
   "metadata": {},
   "outputs": [
    {
     "data": {
      "text/plain": [
       "-0.3920374113763444"
      ]
     },
     "execution_count": 19,
     "metadata": {},
     "output_type": "execute_result"
    }
   ],
   "source": [
    "sigmoid_inv (answer[0])"
   ]
  }
 ],
 "metadata": {
  "kernelspec": {
   "display_name": "Python 3 (ipykernel)",
   "language": "python",
   "name": "python3"
  },
  "language_info": {
   "codemirror_mode": {
    "name": "ipython",
    "version": 3
   },
   "file_extension": ".py",
   "mimetype": "text/x-python",
   "name": "python",
   "nbconvert_exporter": "python",
   "pygments_lexer": "ipython3",
   "version": "3.9.12"
  }
 },
 "nbformat": 4,
 "nbformat_minor": 5
}
